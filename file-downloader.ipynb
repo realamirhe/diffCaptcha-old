{
 "cells": [
  {
   "cell_type": "code",
   "execution_count": 41,
   "metadata": {},
   "outputs": [],
   "source": [
    "import pandas as pd\n",
    "import urllib.request\n",
    "from os.path import exists\n",
    "\n",
    "df = pd.read_csv('prompt-image.csv')\n",
    "df.drop(columns=[\"Unnamed: 0\"], inplace=True)\n",
    "df.rename(columns={c: c.replace(\"Image link \", \"\") for c in df.columns}, inplace=True)\n",
    "\n",
    "# build an opener\n",
    "opener = urllib.request.build_opener()\n",
    "\n",
    "# add a header for opener\n",
    "opener.addheaders = [('User-agent', 'Mozilla/5.0 (Windows; U; Windows NT 5.1; en-US; rv:1.9.0.7) Gecko/2009021910 Firefox/3.0.7')]\n",
    "\n",
    "# install opener once\n",
    "urllib.request.install_opener(opener)\n",
    "\n",
    "def url_to_jpg(prompt_index, index, url, file_path):\n",
    "    filename = 'image-{}-{}.jpg'.format(prompt_index, index)\n",
    "    fullpath = '{}{}'.format(file_path, filename)\n",
    "    if exists(fullpath):\n",
    "        return\n",
    "    urllib.request.urlretrieve(url, fullpath)\n",
    "    print('{} saved.'.format(filename))\n"
   ]
  },
  {
   "cell_type": "code",
   "execution_count": 46,
   "metadata": {},
   "outputs": [],
   "source": [
    "FILE_PATH = 'images/'\n",
    "selectables = df.columns[1:]\n",
    "for i, row in df.iterrows():\n",
    "    for img_index, img_url in row[selectables].dropna().items():\n",
    "        url_to_jpg(i, img_index, img_url, FILE_PATH)\n"
   ]
  },
  {
   "cell_type": "code",
   "execution_count": 3,
   "metadata": {},
   "outputs": [
    {
     "ename": "InvalidConfigError",
     "evalue": "Invalid client secrets file ('Error opening file', 'client_secrets.json', 'No such file or directory', 2)",
     "output_type": "error",
     "traceback": [
      "\u001b[0;31m---------------------------------------------------------------------------\u001b[0m",
      "\u001b[0;31mFileNotFoundError\u001b[0m                         Traceback (most recent call last)",
      "File \u001b[0;32m/workspace/.pyenv_mirror/user/current/lib/python3.8/site-packages/oauth2client/clientsecrets.py:121\u001b[0m, in \u001b[0;36m_loadfile\u001b[0;34m(filename)\u001b[0m\n\u001b[1;32m    120\u001b[0m \u001b[39mtry\u001b[39;00m:\n\u001b[0;32m--> 121\u001b[0m     \u001b[39mwith\u001b[39;00m \u001b[39mopen\u001b[39;49m(filename, \u001b[39m'\u001b[39;49m\u001b[39mr\u001b[39;49m\u001b[39m'\u001b[39;49m) \u001b[39mas\u001b[39;00m fp:\n\u001b[1;32m    122\u001b[0m         obj \u001b[39m=\u001b[39m json\u001b[39m.\u001b[39mload(fp)\n",
      "\u001b[0;31mFileNotFoundError\u001b[0m: [Errno 2] No such file or directory: 'client_secrets.json'",
      "\nDuring handling of the above exception, another exception occurred:\n",
      "\u001b[0;31mInvalidClientSecretsError\u001b[0m                 Traceback (most recent call last)",
      "File \u001b[0;32m/workspace/.pyenv_mirror/user/current/lib/python3.8/site-packages/pydrive/auth.py:386\u001b[0m, in \u001b[0;36mGoogleAuth.LoadClientConfigFile\u001b[0;34m(self, client_config_file)\u001b[0m\n\u001b[1;32m    385\u001b[0m \u001b[39mtry\u001b[39;00m:\n\u001b[0;32m--> 386\u001b[0m   client_type, client_info \u001b[39m=\u001b[39m clientsecrets\u001b[39m.\u001b[39;49mloadfile(client_config_file)\n\u001b[1;32m    387\u001b[0m \u001b[39mexcept\u001b[39;00m clientsecrets\u001b[39m.\u001b[39mInvalidClientSecretsError \u001b[39mas\u001b[39;00m error:\n",
      "File \u001b[0;32m/workspace/.pyenv_mirror/user/current/lib/python3.8/site-packages/oauth2client/clientsecrets.py:165\u001b[0m, in \u001b[0;36mloadfile\u001b[0;34m(filename, cache)\u001b[0m\n\u001b[1;32m    164\u001b[0m \u001b[39mif\u001b[39;00m \u001b[39mnot\u001b[39;00m cache:\n\u001b[0;32m--> 165\u001b[0m     \u001b[39mreturn\u001b[39;00m _loadfile(filename)\n\u001b[1;32m    167\u001b[0m obj \u001b[39m=\u001b[39m cache\u001b[39m.\u001b[39mget(filename, namespace\u001b[39m=\u001b[39m_SECRET_NAMESPACE)\n",
      "File \u001b[0;32m/workspace/.pyenv_mirror/user/current/lib/python3.8/site-packages/oauth2client/clientsecrets.py:124\u001b[0m, in \u001b[0;36m_loadfile\u001b[0;34m(filename)\u001b[0m\n\u001b[1;32m    123\u001b[0m \u001b[39mexcept\u001b[39;00m \u001b[39mIOError\u001b[39;00m \u001b[39mas\u001b[39;00m exc:\n\u001b[0;32m--> 124\u001b[0m     \u001b[39mraise\u001b[39;00m InvalidClientSecretsError(\u001b[39m'\u001b[39m\u001b[39mError opening file\u001b[39m\u001b[39m'\u001b[39m, exc\u001b[39m.\u001b[39mfilename,\n\u001b[1;32m    125\u001b[0m                                     exc\u001b[39m.\u001b[39mstrerror, exc\u001b[39m.\u001b[39merrno)\n\u001b[1;32m    126\u001b[0m \u001b[39mreturn\u001b[39;00m _validate_clientsecrets(obj)\n",
      "\u001b[0;31mInvalidClientSecretsError\u001b[0m: ('Error opening file', 'client_secrets.json', 'No such file or directory', 2)",
      "\nDuring handling of the above exception, another exception occurred:\n",
      "\u001b[0;31mInvalidConfigError\u001b[0m                        Traceback (most recent call last)",
      "Cell \u001b[0;32mIn [3], line 10\u001b[0m\n\u001b[1;32m      8\u001b[0m \u001b[39m# Read file and set it as the content of this instance.\u001b[39;00m\n\u001b[1;32m      9\u001b[0m gfile\u001b[39m.\u001b[39mSetContentFile(upload_file)\n\u001b[0;32m---> 10\u001b[0m gfile\u001b[39m.\u001b[39mUpload()\n",
      "File \u001b[0;32m/workspace/.pyenv_mirror/user/current/lib/python3.8/site-packages/pydrive/files.py:285\u001b[0m, in \u001b[0;36mGoogleDriveFile.Upload\u001b[0;34m(self, param)\u001b[0m\n\u001b[1;32m    283\u001b[0m     \u001b[39mself\u001b[39m\u001b[39m.\u001b[39m_FilesPatch(param\u001b[39m=\u001b[39mparam)\n\u001b[1;32m    284\u001b[0m \u001b[39melse\u001b[39;00m:\n\u001b[0;32m--> 285\u001b[0m   \u001b[39mself\u001b[39;49m\u001b[39m.\u001b[39;49m_FilesInsert(param\u001b[39m=\u001b[39;49mparam)\n",
      "File \u001b[0;32m/workspace/.pyenv_mirror/user/current/lib/python3.8/site-packages/pydrive/auth.py:57\u001b[0m, in \u001b[0;36mLoadAuth.<locals>._decorated\u001b[0;34m(self, *args, **kwargs)\u001b[0m\n\u001b[1;32m     55\u001b[0m     \u001b[39mself\u001b[39m\u001b[39m.\u001b[39mauth\u001b[39m.\u001b[39mServiceAuth()\n\u001b[1;32m     56\u001b[0m   \u001b[39melse\u001b[39;00m:\n\u001b[0;32m---> 57\u001b[0m     \u001b[39mself\u001b[39;49m\u001b[39m.\u001b[39;49mauth\u001b[39m.\u001b[39;49mLocalWebserverAuth()\n\u001b[1;32m     59\u001b[0m \u001b[39m# Initialise service if not built yet.\u001b[39;00m\n\u001b[1;32m     60\u001b[0m \u001b[39mif\u001b[39;00m \u001b[39mself\u001b[39m\u001b[39m.\u001b[39mauth\u001b[39m.\u001b[39mservice \u001b[39mis\u001b[39;00m \u001b[39mNone\u001b[39;00m:\n",
      "File \u001b[0;32m/workspace/.pyenv_mirror/user/current/lib/python3.8/site-packages/pydrive/auth.py:113\u001b[0m, in \u001b[0;36mCheckAuth.<locals>._decorated\u001b[0;34m(self, *args, **kwargs)\u001b[0m\n\u001b[1;32m    111\u001b[0m   \u001b[39mself\u001b[39m\u001b[39m.\u001b[39mLoadCredentials()\n\u001b[1;32m    112\u001b[0m \u001b[39mif\u001b[39;00m \u001b[39mself\u001b[39m\u001b[39m.\u001b[39mflow \u001b[39mis\u001b[39;00m \u001b[39mNone\u001b[39;00m:\n\u001b[0;32m--> 113\u001b[0m   \u001b[39mself\u001b[39;49m\u001b[39m.\u001b[39;49mGetFlow()\n\u001b[1;32m    114\u001b[0m \u001b[39mif\u001b[39;00m \u001b[39mself\u001b[39m\u001b[39m.\u001b[39mcredentials \u001b[39mis\u001b[39;00m \u001b[39mNone\u001b[39;00m:\n\u001b[1;32m    115\u001b[0m   code \u001b[39m=\u001b[39m decoratee(\u001b[39mself\u001b[39m, \u001b[39m*\u001b[39margs, \u001b[39m*\u001b[39m\u001b[39m*\u001b[39mkwargs)\n",
      "File \u001b[0;32m/workspace/.pyenv_mirror/user/current/lib/python3.8/site-packages/pydrive/auth.py:443\u001b[0m, in \u001b[0;36mGoogleAuth.GetFlow\u001b[0;34m(self)\u001b[0m\n\u001b[1;32m    437\u001b[0m \u001b[39m\"\"\"Gets Flow object from client configuration.\u001b[39;00m\n\u001b[1;32m    438\u001b[0m \n\u001b[1;32m    439\u001b[0m \u001b[39m:raises: InvalidConfigError\u001b[39;00m\n\u001b[1;32m    440\u001b[0m \u001b[39m\"\"\"\u001b[39;00m\n\u001b[1;32m    441\u001b[0m \u001b[39mif\u001b[39;00m \u001b[39mnot\u001b[39;00m \u001b[39mall\u001b[39m(config \u001b[39min\u001b[39;00m \u001b[39mself\u001b[39m\u001b[39m.\u001b[39mclient_config \\\n\u001b[1;32m    442\u001b[0m            \u001b[39mfor\u001b[39;00m config \u001b[39min\u001b[39;00m \u001b[39mself\u001b[39m\u001b[39m.\u001b[39mCLIENT_CONFIGS_LIST):\n\u001b[0;32m--> 443\u001b[0m   \u001b[39mself\u001b[39;49m\u001b[39m.\u001b[39;49mLoadClientConfig()\n\u001b[1;32m    444\u001b[0m constructor_kwargs \u001b[39m=\u001b[39m {\n\u001b[1;32m    445\u001b[0m     \u001b[39m'\u001b[39m\u001b[39mredirect_uri\u001b[39m\u001b[39m'\u001b[39m: \u001b[39mself\u001b[39m\u001b[39m.\u001b[39mclient_config[\u001b[39m'\u001b[39m\u001b[39mredirect_uri\u001b[39m\u001b[39m'\u001b[39m],\n\u001b[1;32m    446\u001b[0m     \u001b[39m'\u001b[39m\u001b[39mauth_uri\u001b[39m\u001b[39m'\u001b[39m: \u001b[39mself\u001b[39m\u001b[39m.\u001b[39mclient_config[\u001b[39m'\u001b[39m\u001b[39mauth_uri\u001b[39m\u001b[39m'\u001b[39m],\n\u001b[1;32m    447\u001b[0m     \u001b[39m'\u001b[39m\u001b[39mtoken_uri\u001b[39m\u001b[39m'\u001b[39m: \u001b[39mself\u001b[39m\u001b[39m.\u001b[39mclient_config[\u001b[39m'\u001b[39m\u001b[39mtoken_uri\u001b[39m\u001b[39m'\u001b[39m],\n\u001b[1;32m    448\u001b[0m }\n\u001b[1;32m    449\u001b[0m \u001b[39mif\u001b[39;00m \u001b[39mself\u001b[39m\u001b[39m.\u001b[39mclient_config[\u001b[39m'\u001b[39m\u001b[39mrevoke_uri\u001b[39m\u001b[39m'\u001b[39m] \u001b[39mis\u001b[39;00m \u001b[39mnot\u001b[39;00m \u001b[39mNone\u001b[39;00m:\n",
      "File \u001b[0;32m/workspace/.pyenv_mirror/user/current/lib/python3.8/site-packages/pydrive/auth.py:366\u001b[0m, in \u001b[0;36mGoogleAuth.LoadClientConfig\u001b[0;34m(self, backend)\u001b[0m\n\u001b[1;32m    364\u001b[0m     \u001b[39mraise\u001b[39;00m InvalidConfigError(\u001b[39m'\u001b[39m\u001b[39mPlease specify client config backend\u001b[39m\u001b[39m'\u001b[39m)\n\u001b[1;32m    365\u001b[0m \u001b[39mif\u001b[39;00m backend \u001b[39m==\u001b[39m \u001b[39m'\u001b[39m\u001b[39mfile\u001b[39m\u001b[39m'\u001b[39m:\n\u001b[0;32m--> 366\u001b[0m   \u001b[39mself\u001b[39;49m\u001b[39m.\u001b[39;49mLoadClientConfigFile()\n\u001b[1;32m    367\u001b[0m \u001b[39melif\u001b[39;00m backend \u001b[39m==\u001b[39m \u001b[39m'\u001b[39m\u001b[39msettings\u001b[39m\u001b[39m'\u001b[39m:\n\u001b[1;32m    368\u001b[0m   \u001b[39mself\u001b[39m\u001b[39m.\u001b[39mLoadClientConfigSettings()\n",
      "File \u001b[0;32m/workspace/.pyenv_mirror/user/current/lib/python3.8/site-packages/pydrive/auth.py:388\u001b[0m, in \u001b[0;36mGoogleAuth.LoadClientConfigFile\u001b[0;34m(self, client_config_file)\u001b[0m\n\u001b[1;32m    386\u001b[0m   client_type, client_info \u001b[39m=\u001b[39m clientsecrets\u001b[39m.\u001b[39mloadfile(client_config_file)\n\u001b[1;32m    387\u001b[0m \u001b[39mexcept\u001b[39;00m clientsecrets\u001b[39m.\u001b[39mInvalidClientSecretsError \u001b[39mas\u001b[39;00m error:\n\u001b[0;32m--> 388\u001b[0m   \u001b[39mraise\u001b[39;00m InvalidConfigError(\u001b[39m'\u001b[39m\u001b[39mInvalid client secrets file \u001b[39m\u001b[39m%s\u001b[39;00m\u001b[39m'\u001b[39m \u001b[39m%\u001b[39m error)\n\u001b[1;32m    389\u001b[0m \u001b[39mif\u001b[39;00m \u001b[39mnot\u001b[39;00m client_type \u001b[39min\u001b[39;00m (clientsecrets\u001b[39m.\u001b[39mTYPE_WEB,\n\u001b[1;32m    390\u001b[0m                        clientsecrets\u001b[39m.\u001b[39mTYPE_INSTALLED):\n\u001b[1;32m    391\u001b[0m   \u001b[39mraise\u001b[39;00m InvalidConfigError(\u001b[39m'\u001b[39m\u001b[39mUnknown client_type of client config file\u001b[39m\u001b[39m'\u001b[39m)\n",
      "\u001b[0;31mInvalidConfigError\u001b[0m: Invalid client secrets file ('Error opening file', 'client_secrets.json', 'No such file or directory', 2)"
     ]
    }
   ],
   "source": [
    "from pydrive.auth import GoogleAuth\n",
    "from pydrive.drive import GoogleDrive\n",
    "gauth = GoogleAuth()           \n",
    "drive = GoogleDrive(gauth)  \n",
    "upload_file_list = ['./images.tar.gz']\n",
    "for upload_file in upload_file_list:\n",
    "\tgfile = drive.CreateFile({'parents': [{'id': '1PdhcdnwC70H3bcNjrFjzyNgwY'}]})\n",
    "\t# Read file and set it as the content of this instance.\n",
    "\tgfile.SetContentFile(upload_file)\n",
    "\tgfile.Upload() # Upload the file."
   ]
  },
  {
   "cell_type": "code",
   "execution_count": null,
   "metadata": {},
   "outputs": [],
   "source": []
  }
 ],
 "metadata": {
  "kernelspec": {
   "display_name": "Python 3",
   "language": "python",
   "name": "python3"
  },
  "language_info": {
   "codemirror_mode": {
    "name": "ipython",
    "version": 3
   },
   "file_extension": ".py",
   "mimetype": "text/x-python",
   "name": "python",
   "nbconvert_exporter": "python",
   "pygments_lexer": "ipython3",
   "version": "3.8.13"
  },
  "orig_nbformat": 4,
  "vscode": {
   "interpreter": {
    "hash": "9ac03a0a6051494cc606d484d27d20fce22fb7b4d169f583271e11d5ba46a56e"
   }
  }
 },
 "nbformat": 4,
 "nbformat_minor": 2
}
